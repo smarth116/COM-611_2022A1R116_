{
 "cells": [
  {
   "cell_type": "code",
   "execution_count": 2,
   "id": "bfd456f5-80ad-4593-a564-7263358f70aa",
   "metadata": {},
   "outputs": [],
   "source": [
    "#LAB:-COM-611\n",
    "#-----------------------------------------------------------------------------------------------------------------------------\n",
    "# exp.1 : Implement and demonstrate the Data Processing for finding the most specific hypothesis based on a given set of training data samples. \n",
    "# Read the training data from a .CSV file.\n",
    "# algo used : Find-S.\n",
    "# step: \n",
    "# 1. It initializes the specific hypothesis:\n",
    "    # h = {Φ,Φ,Φ,Φ,Φ} (Empty/Specific hypothesis)\n",
    "# 2. It updates the hypothesis only when it encounters a positive example(Yes).\n",
    "# 3. If a feature value in a new example matches the hypothesis, it remains the same.\n",
    "# 4. If a feature value differs, it is replaced by a wildcard symbol(?), which means \"any value.\"\n"
   ]
  },
  {
   "cell_type": "code",
   "execution_count": null,
   "id": "8b1d3bcd-2efd-4a71-9db6-dace3c9080e7",
   "metadata": {},
   "outputs": [],
   "source": [
    "# steps\n",
    "# 1. It initializes the specific hypothesis:\n",
    "    # h = {Φ,Φ,Φ,Φ,Φ} (Empty/Specific hypothesis)\n",
    "# 2. For each positive training example(Yes):\n",
    "    # . If it's the first positive example, assign its values to h.\n",
    "    # . For each subsequent positive example, compare attributes:\n",
    "        #  if and attribute matches h, keep it.\n",
    "        #  if an attribute differs, replace it with? (generalization).\n",
    "# 3. Ignore negative example(NO).\n",
    "# 4. Final hypothesis h is the most specific hypothesis that covers all positive examples."
   ]
  },
  {
   "cell_type": "code",
   "execution_count": null,
   "id": "a44f0856-20fa-439a-8da9-4dde6b2c1325",
   "metadata": {},
   "outputs": [],
   "source": [
    "# Alog\n",
    "# 1. Initialize h to the specific hypothesis in H (Hypothesis Space)\n",
    "# 2. For each positive training instance x\n",
    "    # for each attribute constraint a in h\n",
    "        # if the constraint a is satisfied by x\n",
    "        # Then do nothing\n",
    "        # Else replace a in h by the next more general constraint that is satisfied by x\n",
    "# 3. Output hypothesis h"
   ]
  },
  {
   "cell_type": "code",
   "execution_count": 5,
   "id": "f52dbabe-6c87-4c5d-b8c8-bc39fbf0b1df",
   "metadata": {},
   "outputs": [],
   "source": [
    "def find_s(attributes,a):\n",
    "    \n",
    "    print('\\n The Given Training Data Set\\n')\n",
    "    with open('weather_data.csv','r') as file:\n",
    "        readerc = csv.reader(file)\n",
    "        for row in readerc:\n",
    "            a.append(row)\n",
    "            print(row)\n",
    "\n",
    "    print('\\n The initial value of hypothesis: ')\n",
    "    hypothesis = ['0'] * num_attributes\n",
    "    print(hypothesis)\n",
    "    \n",
    "    # Initialize hypothesis with the first positive example \n",
    "    for j in range(0, num_attributes):\n",
    "        hypothesis[j] = a[0][j]\n",
    "    \n",
    "    \n",
    "    print('\\n Find S: Finding a Maximally Specific Hypothesis\\n')\n",
    "    \n",
    "    for i in range(0, len(a)): # Loop through training examples\n",
    "        if a[i][-1] == \"Yes\": # Consider only positive examples\n",
    "            for j in range(0,num_attributes):\n",
    "                if a[i][j] != hypothesis[j]:\n",
    "                    hypothesis[j] = '?'\n",
    "                # else:\n",
    "                #     hypothesis[j] = a[i][j]\n",
    "    \n",
    "    # Changed Training Instance Number from (i) to (i+1)\n",
    "    print(f'For Training instance No:{i+1} the hypothesis is {hypothesis}')\n",
    "    \n",
    "    print('\\n The Maximally specific Hypothesis for a given Training Examples: \\n')\n",
    "    print(hypothesis)"
   ]
  },
  {
   "cell_type": "code",
   "execution_count": 6,
   "id": "01caf270-fda2-48bd-bea2-79a676a44b96",
   "metadata": {},
   "outputs": [
    {
     "name": "stdout",
     "output_type": "stream",
     "text": [
      "\n",
      " The Given Training Data Set\n",
      "\n",
      "['Sunny', 'Warm', 'Normal', 'Strong', 'Warm', 'Same', 'Yes']\n",
      "['Sunny', 'Warm', 'High', 'Strong', 'Warm', 'Same', 'Yes']\n",
      "['Rainy', 'Cold', 'High', 'Strong', 'Warm', 'Change', 'No']\n",
      "['Sunny', 'Warm', 'High', 'Strong', 'Cool', 'Change', 'Yes']\n",
      "\n",
      " The initial value of hypothesis: \n",
      "['0', '0', '0', '0', '0', '0']\n",
      "\n",
      " Find S: Finding a Maximally Specific Hypothesis\n",
      "\n",
      "For Training instance No:4 the hypothesis is ['Sunny', 'Warm', '?', 'Strong', '?', '?']\n",
      "\n",
      " The Maximally specific Hypothesis for a given Training Examples: \n",
      "\n",
      "['Sunny', 'Warm', '?', 'Strong', '?', '?']\n",
      "None\n"
     ]
    }
   ],
   "source": [
    "import csv\n",
    "num_attributes = 6\n",
    "a = []\n",
    "result = find_s(num_attributes,a)\n",
    "print(result)\n"
   ]
  },
  {
   "cell_type": "code",
   "execution_count": 7,
   "id": "bd096c87-924a-449a-ac02-5b3f9c8a92d7",
   "metadata": {},
   "outputs": [],
   "source": []
  },
  {
   "cell_type": "code",
   "execution_count": null,
   "id": "2707b4ea-d00c-41d5-b27c-c70a2d890a42",
   "metadata": {},
   "outputs": [],
   "source": []
  }
 ],
 "metadata": {
  "kernelspec": {
   "display_name": "Python 3 (ipykernel)",
   "language": "python",
   "name": "python3"
  },
  "language_info": {
   "codemirror_mode": {
    "name": "ipython",
    "version": 3
   },
   "file_extension": ".py",
   "mimetype": "text/x-python",
   "name": "python",
   "nbconvert_exporter": "python",
   "pygments_lexer": "ipython3",
   "version": "3.12.6"
  }
 },
 "nbformat": 4,
 "nbformat_minor": 5
}
