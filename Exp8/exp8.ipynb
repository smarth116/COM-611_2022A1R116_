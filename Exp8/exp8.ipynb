{
 "cells": [
  {
   "cell_type": "code",
   "execution_count": 3,
   "id": "6206452c-c9fd-4a8f-bafb-e6e91c2fdea4",
   "metadata": {},
   "outputs": [
    {
     "data": {
      "text/plain": [
       "' Implement the image processing basics: Converting image to rgb to bgr , rgb to grayscale, create black and white color\\n images and also draw shapes on the images. '"
      ]
     },
     "execution_count": 3,
     "metadata": {},
     "output_type": "execute_result"
    }
   ],
   "source": [
    "''' Implement the image processing basics: Converting image to rgb to bgr , rgb to grayscale, create black and white color\n",
    " images and also draw shapes on the images. '''"
   ]
  },
  {
   "cell_type": "code",
   "execution_count": 22,
   "id": "9c0423a8-45ce-4341-a226-77355a568fd9",
   "metadata": {},
   "outputs": [],
   "source": [
    "import cv2\n",
    "import numpy as np"
   ]
  },
  {
   "cell_type": "code",
   "execution_count": 23,
   "id": "3807f5bd-955d-48b7-a5e2-0a1e45b9f48e",
   "metadata": {},
   "outputs": [],
   "source": [
    "#Main program\n",
    "image_path = \"C:/Users/Dhruv Sundan/Desktop/computer vision/exp8/download.jpeg\"\n",
    "output_path =\"C:/Users/Dhruv Sundan/Desktop/computer vision/exp8/output.jpeg\""
   ]
  },
  {
   "cell_type": "code",
   "execution_count": 24,
   "id": "1b8016d6-cd28-4f0c-85d3-9a3dce48a603",
   "metadata": {},
   "outputs": [],
   "source": [
    "def convert_to_grayscale(image_path):\n",
    "    # load the image\n",
    "    image = cv2.imread(image_path)\n",
    "\n",
    "    #convert the image to grayscale\n",
    "    grayscale_image = cv2.cvtColor(image,cv2.COLOR_BGR2GRAY) \n",
    "\n",
    "    # Display the original and grayscale image\n",
    "    cv2.imshow(\"Original Image\",image)\n",
    "    cv2.imshow(\"Grayscale Image\",grayscale_image) \n",
    "    cv2.waitKey(0)\n",
    "    cv2.destroyAllWindows() "
   ]
  },
  {
   "cell_type": "code",
   "execution_count": 25,
   "id": "ed3f109e-d237-415c-b923-77785af2c22e",
   "metadata": {},
   "outputs": [],
   "source": [
    "def convert_to_bgr(image_path,output_path):\n",
    "    # load the image\n",
    "    image = cv2.imread(image_path) \n",
    "    # convert the image to BGR color space \n",
    "    bgr_image = cv2.cvtColor(image,cv2.COLOR_RGB2BGR)\n",
    "\n",
    "    # Display the original and BGR images\n",
    "    cv2.imshow(\"Original image\",image)\n",
    "    cv2.imshow(\"BGR Image\",bgr_image)\n",
    "    cv2.waitKey(0)\n",
    "    cv2.destroyAllWindows()\n",
    "\n",
    "    # save the BGR image\n",
    "    cv2.imwrite(output_path,bgr_image)\n",
    "    print(\"BGR image saved as\",output_path)"
   ]
  },
  {
   "cell_type": "markdown",
   "id": "c3cd8a52-a975-4812-b356-f8ff753b7fba",
   "metadata": {},
   "source": [
    "### In the code,the convert_bgr_to_rgb function takes an image in BGR color space (image_bgr) and converts it to RGB color \n",
    "### space using cv2.cvtCOlor with the cv2.COLOR_BGR2RGB flag. it then displays both the original BGR image and the coverted RGB image. \n"
   ]
  },
  {
   "cell_type": "code",
   "execution_count": 26,
   "id": "3cd7f3d2-3250-4c91-b317-66f5920e9bc9",
   "metadata": {},
   "outputs": [],
   "source": [
    "def convert_bgr_to_rgb(output_path):\n",
    "    # load the image\n",
    "    image_bgr = cv2.imread(output_path)\n",
    "    # convert the image from BGR to RBG color space\n",
    "    image_rgb = cv2.cvtColor(image_bgr,cv2.COLOR_BGR2RGB)\n",
    "    #display the original BGR image and the converted RGB image\n",
    "    cv2.imshow(\"BGR Image\",image_bgr)\n",
    "    cv2.imshow(\"RGB Image\",image_rgb)\n",
    "    cv2.waitKey(0)\n",
    "    cv2.destroyAllWindows()"
   ]
  },
  {
   "cell_type": "code",
   "execution_count": null,
   "id": "401a3514-2deb-46da-8782-4bd5f6b0aaf4",
   "metadata": {},
   "outputs": [],
   "source": []
  },
  {
   "cell_type": "code",
   "execution_count": 27,
   "id": "a5e0a566-992d-43a6-aa04-21fa0d9dded3",
   "metadata": {},
   "outputs": [],
   "source": [
    "#convert image to grayscale\n",
    "convert_to_grayscale(image_path)"
   ]
  },
  {
   "cell_type": "code",
   "execution_count": 28,
   "id": "45b87b8d-d2fc-476e-b2ce-52c2f239cddb",
   "metadata": {},
   "outputs": [
    {
     "name": "stdout",
     "output_type": "stream",
     "text": [
      "BGR image saved as C:/Users/Dhruv Sundan/Desktop/computer vision/exp8/output.jpeg\n"
     ]
    }
   ],
   "source": [
    "# convert image to BGR and save it\n",
    "convert_to_bgr(image_path,output_path)\n"
   ]
  },
  {
   "cell_type": "code",
   "execution_count": 29,
   "id": "59ae061c-9013-48d4-a405-3644f3ad3253",
   "metadata": {},
   "outputs": [
    {
     "ename": "NameError",
     "evalue": "name 'covert_bgr_to_rgb' is not defined",
     "output_type": "error",
     "traceback": [
      "\u001b[1;31m---------------------------------------------------------------------------\u001b[0m",
      "\u001b[1;31mNameError\u001b[0m                                 Traceback (most recent call last)",
      "Cell \u001b[1;32mIn[29], line 2\u001b[0m\n\u001b[0;32m      1\u001b[0m \u001b[38;5;66;03m# convert BGR image to RGB\u001b[39;00m\n\u001b[1;32m----> 2\u001b[0m \u001b[43mcovert_bgr_to_rgb\u001b[49m(output_path)\n",
      "\u001b[1;31mNameError\u001b[0m: name 'covert_bgr_to_rgb' is not defined"
     ]
    }
   ],
   "source": [
    "# convert BGR image to RGB\n",
    "covert_bgr_to_rgb(output_path)"
   ]
  },
  {
   "cell_type": "code",
   "execution_count": null,
   "id": "474d9015-b2b5-4971-85a9-5fcc9ff179ab",
   "metadata": {},
   "outputs": [],
   "source": [
    "def create_white_image(width,height):\n",
    "    #create a white color image\n",
    "    white_image = np.ones((height,width,3),dtype=np.uint8) * 255\n",
    "\n",
    "    # Display the white image\n",
    "    cv2.imshow(\"White Image\",white_image) \n",
    "    cv2.waitKey(0)\n",
    "    cv2.destroyAllWindows()"
   ]
  },
  {
   "cell_type": "code",
   "execution_count": null,
   "id": "6eb12bfb-30d8-4019-8c0c-660ccc18559c",
   "metadata": {},
   "outputs": [],
   "source": [
    "def create_black_image(width,height): \n",
    "    #create a black color image\n",
    "    black_image = np.zeros((height,width,3),dtype=np.uint8)\n",
    "\n",
    "# Display the black image\n",
    "    cv2.imshow(\"Black Image\",black_image)\n",
    "    cv2.waitkey(0)\n",
    "    cv2.destroyAllWindows()"
   ]
  },
  {
   "cell_type": "code",
   "execution_count": null,
   "id": "67523611-854c-4f09-819b-30fcc3a96dc8",
   "metadata": {},
   "outputs": [],
   "source": [
    "def draw_shapes_on_image(image_path):\n",
    "    # load the image\n",
    "    image = cv2.imread(image_path)\n",
    "    # Draw a rectangle on the image\n",
    "    cv2.rectangle(image, (50,50),(200,200),(0,255,0),2)\n",
    "\n",
    "    # Draw a circle on the image\n",
    "    cv2.circle(image,(300,150),100,(0,0,255),2)\n",
    "\n",
    "    # Draw a ine on the image\n",
    "    cv2.line(image,(400,50),(400,250),(255,0,0),2)\n",
    "\n",
    "    #Display the image with shapes\n",
    "    cv2.imshow(\"Image with Shapes\",image)\n",
    "    cv2.waitKey(0)\n",
    "    cv2.destroyAllWindows()\n",
    "    "
   ]
  },
  {
   "cell_type": "code",
   "execution_count": null,
   "id": "91800f6c-6ae0-445b-bfa0-c8934b0bc845",
   "metadata": {},
   "outputs": [],
   "source": [
    "# Main program\n",
    "width,height = 800,600"
   ]
  },
  {
   "cell_type": "code",
   "execution_count": null,
   "id": "d1c804c2-6b1d-4b4a-9e7f-bad8de6cc05e",
   "metadata": {},
   "outputs": [],
   "source": [
    "#create a white image\n",
    "create_white_image(width,height)"
   ]
  },
  {
   "cell_type": "code",
   "execution_count": null,
   "id": "dac0dfd0-b418-4ef5-ac5d-464079c97c8d",
   "metadata": {},
   "outputs": [],
   "source": [
    "#create a black image\n",
    "create_black_image(width,height)"
   ]
  },
  {
   "cell_type": "code",
   "execution_count": null,
   "id": "e0aaa0b7-2fa8-44f9-bfca-40bb86cbcfc2",
   "metadata": {},
   "outputs": [],
   "source": [
    "# Draw shapes on an image\n",
    "image_path = \"C:/Users/Dhruv Sundan/Desktop/computer vision/exp8/download.jpeg\"\n",
    "draw_shapes_on_image(image_path)\n",
    "\n"
   ]
  },
  {
   "cell_type": "raw",
   "id": "f3ccd3e0-4d61-4943-889a-50e132b8947b",
   "metadata": {},
   "source": []
  }
 ],
 "metadata": {
  "kernelspec": {
   "display_name": "Python 3 (ipykernel)",
   "language": "python",
   "name": "python3"
  },
  "language_info": {
   "codemirror_mode": {
    "name": "ipython",
    "version": 3
   },
   "file_extension": ".py",
   "mimetype": "text/x-python",
   "name": "python",
   "nbconvert_exporter": "python",
   "pygments_lexer": "ipython3",
   "version": "3.12.6"
  }
 },
 "nbformat": 4,
 "nbformat_minor": 5
}
