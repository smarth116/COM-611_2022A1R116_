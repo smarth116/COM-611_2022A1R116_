{
 "cells": [
  {
   "cell_type": "code",
   "execution_count": 1,
   "id": "d0bcd4e4-2160-41b6-a94f-99fecea3fe40",
   "metadata": {},
   "outputs": [],
   "source": [
    "# Exp 2: For a given set of training data examples stored in a .CSV file, implement and demonstrate the Candidate-Elimination\n",
    "# algorithm to output a description of the set of all hypotheses consistent with the training examples.\n",
    "# alog: Candidate-Elimination.\n",
    "# obj: to find all hypotheses consistent with the training data by applying the Candidate Elimination Algo. \n",
    "#  The candidate ELimination algo works by creating two set of hypothesis: the set of general hypotheses(G) and the set of specific hypothesis(S).\n",
    "# Initially, G contains the most general hypothesis that covers all possible instances and S contain the most specific hypothesis that only covers the first training instance.\n"
   ]
  },
  {
   "cell_type": "code",
   "execution_count": null,
   "id": "03ad7495-64eb-4486-9242-119e8b92bcab",
   "metadata": {},
   "outputs": [],
   "source": [
    "# Candidate Elimination alog:\n",
    "'''\n",
    "1. Initialize the version space V to contain all possible hypotheses in the hypothesis space H.\n",
    "2. For each training example:\n",
    "    .if the example is positive, remove from V all hyptheses that are inconsistent with the example.\n",
    "    . A hypothesis is inconsistent if any of its attribute values differ from the example.\n",
    "    . if the example is negative, remove from V all hypotheses that are consistent with the example.\n",
    "    . A hypothesis is consistent if all of its attribute values match the example.\n",
    "    . if there are any remaining hypotheses in V  after step 2, generalize and/or specialize them as needed to include the current example.\n",
    "    \n",
    "'''"
   ]
  },
  {
   "cell_type": "code",
   "execution_count": 2,
   "id": "84473563-987b-4822-bbf5-7b8971b1f688",
   "metadata": {},
   "outputs": [],
   "source": [
    "# set the Most Specific and Most Generric \n",
    "# S0 = ('0','0','0','0','0','0')\n",
    "# G0 = (?,?,?,?,?,?)"
   ]
  },
  {
   "cell_type": "code",
   "execution_count": 9,
   "id": "1b347818-5bc1-46af-9c4d-2d260bd74f7a",
   "metadata": {},
   "outputs": [],
   "source": [
    "import numpy as np\n",
    "import pandas as pd\n",
    "    "
   ]
  },
  {
   "cell_type": "code",
   "execution_count": 10,
   "id": "be91173c-f3d9-4f5e-b3a4-a18811c9840b",
   "metadata": {},
   "outputs": [
    {
     "name": "stdout",
     "output_type": "stream",
     "text": [
      "     sky AirTemp humidity   wind  water  Forecast EnjoySport\n",
      "0  Sunny    Warm   Normal  Strong   Warm     Same        Yes\n",
      "1  Sunny    Warm     High  Strong   Warm     Same        Yes\n",
      "2  Rainy    Cold     High  Strong   Warm   Change         No\n",
      "3  Sunny    Warm     High  Strong   Cool   Change        Yes\n"
     ]
    }
   ],
   "source": [
    "# Loading Data from a csv file\n",
    "data = pd.DataFrame(data=pd.read_csv('weather_data.csv'))\n",
    "print(data)"
   ]
  },
  {
   "cell_type": "code",
   "execution_count": 11,
   "id": "1361c7e8-4ef5-4c25-8061-ddcdd0dfe4bd",
   "metadata": {},
   "outputs": [
    {
     "name": "stdout",
     "output_type": "stream",
     "text": [
      "[['Sunny' 'Warm' 'Normal' 'Strong' 'Warm' 'Same']\n",
      " ['Sunny' 'Warm' 'High' 'Strong' 'Warm' 'Same']\n",
      " ['Rainy' 'Cold' 'High' 'Strong' 'Warm' 'Change']\n",
      " ['Sunny' 'Warm' 'High' 'Strong' 'Cool' 'Change']]\n"
     ]
    }
   ],
   "source": [
    "# Separating concept features from Target\n",
    "concepts = np.array(data.iloc[:,0:-1])\n",
    "print(concepts)"
   ]
  },
  {
   "cell_type": "code",
   "execution_count": 12,
   "id": "1f67dac4-3d8b-4a9d-9e13-e18906b500ce",
   "metadata": {},
   "outputs": [
    {
     "name": "stdout",
     "output_type": "stream",
     "text": [
      "['Yes' 'Yes' 'No' 'Yes']\n"
     ]
    }
   ],
   "source": [
    "#Isolating target into a separate DataFrame\n",
    "# copying last column to target array\n",
    "target = np.array(data.iloc[:,-1])\n",
    "print(target)"
   ]
  },
  {
   "cell_type": "code",
   "execution_count": 17,
   "id": "9499d0a9-962f-4d7d-989f-25fc366081d2",
   "metadata": {},
   "outputs": [],
   "source": [
    "def learn(concepts, target):\n",
    "    \n",
    "    specific_h = concepts[0].copy()\n",
    "    print(\"\\nInitialization of specific_h and general_h\")\n",
    "    print(specific_h)\n",
    "    \n",
    "    general_h = [[\"?\" for i in range(len(specific_h))] for i in range(len(specific_h))]\n",
    "    print(general_h)\n",
    "    \n",
    "    for i, h in enumerate(concepts):\n",
    "\n",
    "        if target[i] == \"Yes\":\n",
    "            for x in range(len(specific_h)):\n",
    "\n",
    "                if h[x] != specific_h[x]:\n",
    "                    specific_h[x] = '?'\n",
    "                    general_h[x][x] = '?'\n",
    "\n",
    "        if target[i] == \"No\":\n",
    "            for x in range(len(specific_h)):\n",
    "                if h[x] != specific_h[x]:\n",
    "                    general_h[x][x] = specific_h[x]\n",
    "                else:\n",
    "                    general_h[x][x] = '?'\n",
    "\n",
    "        print(\"\\nSteps of Candidate Elimination Algorithm\",i+1)\n",
    "        print(specific_h)\n",
    "        print(general_h)\n",
    "    \n",
    "    \n",
    "    indices = [i for i, val in enumerate(general_h) if val == ['?', '?', '?', '?', '?', '?']]\n",
    "    for i in indices:\n",
    "        \n",
    "        general_h.remove(['?', '?', '?', '?', '?', '?'])\n",
    "    \n",
    "    return specific_h, general_h"
   ]
  },
  {
   "cell_type": "code",
   "execution_count": 19,
   "id": "a35986e0-0df5-4580-8b9e-501132fe5a77",
   "metadata": {},
   "outputs": [
    {
     "name": "stdout",
     "output_type": "stream",
     "text": [
      "\n",
      "Initialization of specific_h and general_h\n",
      "['Sunny' 'Warm' 'Normal' 'Strong' 'Warm' 'Same']\n",
      "[['?', '?', '?', '?', '?', '?'], ['?', '?', '?', '?', '?', '?'], ['?', '?', '?', '?', '?', '?'], ['?', '?', '?', '?', '?', '?'], ['?', '?', '?', '?', '?', '?'], ['?', '?', '?', '?', '?', '?']]\n",
      "\n",
      "Steps of Candidate Elimination Algorithm 1\n",
      "['Sunny' 'Warm' 'Normal' 'Strong' 'Warm' 'Same']\n",
      "[['?', '?', '?', '?', '?', '?'], ['?', '?', '?', '?', '?', '?'], ['?', '?', '?', '?', '?', '?'], ['?', '?', '?', '?', '?', '?'], ['?', '?', '?', '?', '?', '?'], ['?', '?', '?', '?', '?', '?']]\n",
      "\n",
      "Steps of Candidate Elimination Algorithm 2\n",
      "['Sunny' 'Warm' '?' 'Strong' 'Warm' 'Same']\n",
      "[['?', '?', '?', '?', '?', '?'], ['?', '?', '?', '?', '?', '?'], ['?', '?', '?', '?', '?', '?'], ['?', '?', '?', '?', '?', '?'], ['?', '?', '?', '?', '?', '?'], ['?', '?', '?', '?', '?', '?']]\n",
      "\n",
      "Steps of Candidate Elimination Algorithm 3\n",
      "['Sunny' 'Warm' '?' 'Strong' 'Warm' 'Same']\n",
      "[['Sunny', '?', '?', '?', '?', '?'], ['?', 'Warm', '?', '?', '?', '?'], ['?', '?', '?', '?', '?', '?'], ['?', '?', '?', '?', '?', '?'], ['?', '?', '?', '?', '?', '?'], ['?', '?', '?', '?', '?', 'Same']]\n",
      "\n",
      "Steps of Candidate Elimination Algorithm 4\n",
      "['Sunny' 'Warm' '?' 'Strong' '?' '?']\n",
      "[['Sunny', '?', '?', '?', '?', '?'], ['?', 'Warm', '?', '?', '?', '?'], ['?', '?', '?', '?', '?', '?'], ['?', '?', '?', '?', '?', '?'], ['?', '?', '?', '?', '?', '?'], ['?', '?', '?', '?', '?', '?']]\n",
      "\n",
      " Final Specific_h: \n",
      "['Sunny' 'Warm' '?' 'Strong' '?' '?']\n",
      "\n",
      " general_h: \n",
      "[['Sunny', '?', '?', '?', '?', '?'], ['?', 'Warm', '?', '?', '?', '?']]\n"
     ]
    }
   ],
   "source": [
    "s_final,g_final = learn(concepts,target)\n",
    "print('\\n Final Specific_h: ',s_final,sep='\\n')\n",
    "print('\\n general_h: ',g_final,sep='\\n')"
   ]
  },
  {
   "cell_type": "code",
   "execution_count": null,
   "id": "07f8b291-2351-4dbe-8161-64711d6b13dc",
   "metadata": {},
   "outputs": [],
   "source": [
    "\n",
    "            "
   ]
  },
  {
   "cell_type": "code",
   "execution_count": null,
   "id": "cb95a895-1139-4d83-ae09-318838533caf",
   "metadata": {},
   "outputs": [],
   "source": []
  }
 ],
 "metadata": {
  "kernelspec": {
   "display_name": "Python 3 (ipykernel)",
   "language": "python",
   "name": "python3"
  },
  "language_info": {
   "codemirror_mode": {
    "name": "ipython",
    "version": 3
   },
   "file_extension": ".py",
   "mimetype": "text/x-python",
   "name": "python",
   "nbconvert_exporter": "python",
   "pygments_lexer": "ipython3",
   "version": "3.12.6"
  }
 },
 "nbformat": 4,
 "nbformat_minor": 5
}
